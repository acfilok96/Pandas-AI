{
 "cells": [
  {
   "cell_type": "code",
   "execution_count": 31,
   "id": "841371d6",
   "metadata": {},
   "outputs": [
    {
     "name": "stdout",
     "output_type": "stream",
     "text": [
      "['.ipynb_checkpoints', 'ChatGPTapiKey.txt', 'gender_submission.csv', 'Untitled.ipynb']\n"
     ]
    }
   ],
   "source": [
    "import os\n",
    "print(os.listdir())"
   ]
  },
  {
   "cell_type": "code",
   "execution_count": 32,
   "id": "aba61337",
   "metadata": {},
   "outputs": [],
   "source": [
    "# !pip install pandasai"
   ]
  },
  {
   "cell_type": "code",
   "execution_count": 37,
   "id": "54712ae2",
   "metadata": {},
   "outputs": [],
   "source": [
    "# Load OpenAI API key\n",
    "api_key=open(\"ChatGPTapiKey.txt\",\"r\").read().strip(\"\\n\")\n",
    "# print(api_key)"
   ]
  },
  {
   "cell_type": "code",
   "execution_count": 38,
   "id": "f9c6248f",
   "metadata": {},
   "outputs": [],
   "source": [
    "# Import Libraries\n",
    "from pandasai import PandasAI"
   ]
  },
  {
   "cell_type": "code",
   "execution_count": 39,
   "id": "8955746f",
   "metadata": {},
   "outputs": [],
   "source": [
    "# Initialize a LLM\n",
    "from pandasai.llm.openai import OpenAI\n",
    "llm=OpenAI(api_token=api_key)"
   ]
  },
  {
   "cell_type": "code",
   "execution_count": 40,
   "id": "6d58ebc7",
   "metadata": {},
   "outputs": [],
   "source": [
    "# Passing OpenAI Model to PandasAI\n",
    "pandas_ai=PandasAI(llm)"
   ]
  },
  {
   "cell_type": "code",
   "execution_count": 41,
   "id": "ac27de05",
   "metadata": {},
   "outputs": [
    {
     "data": {
      "text/html": [
       "<div>\n",
       "<style scoped>\n",
       "    .dataframe tbody tr th:only-of-type {\n",
       "        vertical-align: middle;\n",
       "    }\n",
       "\n",
       "    .dataframe tbody tr th {\n",
       "        vertical-align: top;\n",
       "    }\n",
       "\n",
       "    .dataframe thead th {\n",
       "        text-align: right;\n",
       "    }\n",
       "</style>\n",
       "<table border=\"1\" class=\"dataframe\">\n",
       "  <thead>\n",
       "    <tr style=\"text-align: right;\">\n",
       "      <th></th>\n",
       "      <th>PassengerId</th>\n",
       "      <th>Survived</th>\n",
       "    </tr>\n",
       "  </thead>\n",
       "  <tbody>\n",
       "    <tr>\n",
       "      <th>0</th>\n",
       "      <td>892</td>\n",
       "      <td>0</td>\n",
       "    </tr>\n",
       "    <tr>\n",
       "      <th>1</th>\n",
       "      <td>893</td>\n",
       "      <td>1</td>\n",
       "    </tr>\n",
       "    <tr>\n",
       "      <th>2</th>\n",
       "      <td>894</td>\n",
       "      <td>0</td>\n",
       "    </tr>\n",
       "  </tbody>\n",
       "</table>\n",
       "</div>"
      ],
      "text/plain": [
       "   PassengerId  Survived\n",
       "0          892         0\n",
       "1          893         1\n",
       "2          894         0"
      ]
     },
     "execution_count": 41,
     "metadata": {},
     "output_type": "execute_result"
    }
   ],
   "source": [
    "# Import Pandas\n",
    "import pandas as pd\n",
    "data=pd.read_csv(\"gender_submission.csv\")\n",
    "data.head(3)"
   ]
  },
  {
   "cell_type": "code",
   "execution_count": 42,
   "id": "e6091f8d",
   "metadata": {},
   "outputs": [
    {
     "name": "stdout",
     "output_type": "stream",
     "text": [
      "Enter question about Dataset: show the column of dataset\n"
     ]
    },
    {
     "data": {
      "text/html": [
       "<div>\n",
       "<style scoped>\n",
       "    .dataframe tbody tr th:only-of-type {\n",
       "        vertical-align: middle;\n",
       "    }\n",
       "\n",
       "    .dataframe tbody tr th {\n",
       "        vertical-align: top;\n",
       "    }\n",
       "\n",
       "    .dataframe thead th {\n",
       "        text-align: right;\n",
       "    }\n",
       "</style>\n",
       "<table border=\"1\" class=\"dataframe\">\n",
       "  <thead>\n",
       "    <tr style=\"text-align: right;\">\n",
       "      <th></th>\n",
       "      <th>Column Name</th>\n",
       "    </tr>\n",
       "  </thead>\n",
       "  <tbody>\n",
       "    <tr>\n",
       "      <th>0</th>\n",
       "      <td>PassengerId</td>\n",
       "    </tr>\n",
       "    <tr>\n",
       "      <th>1</th>\n",
       "      <td>Survived</td>\n",
       "    </tr>\n",
       "  </tbody>\n",
       "</table>\n",
       "</div>"
      ],
      "text/plain": [
       "   Column Name\n",
       "0  PassengerId\n",
       "1     Survived"
      ]
     },
     "execution_count": 42,
     "metadata": {},
     "output_type": "execute_result"
    }
   ],
   "source": [
    "# Running the model on our dataset\n",
    "prompt=input(\"Enter question about Dataset: \")\n",
    "pandas_ai.run(data,prompt=prompt)"
   ]
  },
  {
   "cell_type": "code",
   "execution_count": 43,
   "id": "098e9910",
   "metadata": {},
   "outputs": [
    {
     "name": "stdout",
     "output_type": "stream",
     "text": [
      "Enter Question about Dataset: tell me more about first column of the dataset\n"
     ]
    },
    {
     "data": {
      "text/plain": [
       "\"The first column of the dataset is 'PassengerId'.\\nThere are 418 unique values in this column:\\n[ 892  893  894  895  896  897  898  899  900  901  902  903  904  905\\n  906  907  908  909  910  911  912  913  914  915  916  917  918  919\\n  920  921  922  923  924  925  926  927  928  929  930  931  932  933\\n  934  935  936  937  938  939  940  941  942  943  944  945  946  947\\n  948  949  950  951  952  953  954  955  956  957  958  959  960  961\\n  962  963  964  965  966  967  968  969  970  971  972  973  974  975\\n  976  977  978  979  980  981  982  983  984  985  986  987  988  989\\n  990  991  992  993  994  995  996  997  998  999 1000 1001 1002 1003\\n 1004 1005 1006 1007 1008 1009 1010 1011 1012 1013 1014 1015 1016 1017\\n 1018 1019 1020 1021 1022 1023 1024 1025 1026 1027 1028 1029 1030 1031\\n 1032 1033 1034 1035 1036 1037 1038 1039 1040 1041 1042 1043 1044 1045\\n 1046 1047 1048 1049 1050 1051 1052 1053 1054 1055 1056 1057 1058 1059\\n 1060 1061 1062 1063 1064 1065 1066 1067 1068 1069 1070 1071 1072 1073\\n 1074 1075 1076 1077 1078 1079 1080 1081 1082 1083 1084 1085 1086 1087\\n 1088 1089 1090 1091 1092 1093 1094 1095 1096 1097 1098 1099 1100 1101\\n 1102 1103 1104 1105 1106 1107 1108 1109 1110 1111 1112 1113 1114 1115\\n 1116 1117 1118 1119 1120 1121 1122 1123 1124 1125 1126 1127 1128 1129\\n 1130 1131 1132 1133 1134 1135 1136 1137 1138 1139 1140 1141 1142 1143\\n 1144 1145 1146 1147 1148 1149 1150 1151 1152 1153 1154 1155 1156 1157\\n 1158 1159 1160 1161 1162 1163 1164 1165 1166 1167 1168 1169 1170 1171\\n 1172 1173 1174 1175 1176 1177 1178 1179 1180 1181 1182 1183 1184 1185\\n 1186 1187 1188 1189 1190 1191 1192 1193 1194 1195 1196 1197 1198 1199\\n 1200 1201 1202 1203 1204 1205 1206 1207 1208 1209 1210 1211 1212 1213\\n 1214 1215 1216 1217 1218 1219 1220 1221 1222 1223 1224 1225 1226 1227\\n 1228 1229 1230 1231 1232 1233 1234 1235 1236 1237 1238 1239 1240 1241\\n 1242 1243 1244 1245 1246 1247 1248 1249 1250 1251 1252 1253 1254 1255\\n 1256 1257 1258 1259 1260 1261 1262 1263 1264 1265 1266 1267 1268 1269\\n 1270 1271 1272 1273 1274 1275 1276 1277 1278 1279 1280 1281 1282 1283\\n 1284 1285 1286 1287 1288 1289 1290 1291 1292 1293 1294 1295 1296 1297\\n 1298 1299 1300 1301 1302 1303 1304 1305 1306 1307 1308 1309]\""
      ]
     },
     "execution_count": 43,
     "metadata": {},
     "output_type": "execute_result"
    }
   ],
   "source": [
    "# Running the model on our dataset\n",
    "prompt=input(\"Enter question about Dataset: \")\n",
    "pandas_ai.run(data,prompt=prompt)"
   ]
  },
  {
   "cell_type": "code",
   "execution_count": null,
   "id": "fe4f5ba1",
   "metadata": {},
   "outputs": [],
   "source": []
  }
 ],
 "metadata": {
  "kernelspec": {
   "display_name": "Python 3 (ipykernel)",
   "language": "python",
   "name": "python3"
  },
  "language_info": {
   "codemirror_mode": {
    "name": "ipython",
    "version": 3
   },
   "file_extension": ".py",
   "mimetype": "text/x-python",
   "name": "python",
   "nbconvert_exporter": "python",
   "pygments_lexer": "ipython3",
   "version": "3.9.12"
  }
 },
 "nbformat": 4,
 "nbformat_minor": 5
}

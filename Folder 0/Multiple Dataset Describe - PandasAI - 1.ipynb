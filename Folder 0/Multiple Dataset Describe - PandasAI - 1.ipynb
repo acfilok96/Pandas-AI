{
 "cells": [
  {
   "cell_type": "code",
   "execution_count": 4,
   "id": "cb266fb9",
   "metadata": {},
   "outputs": [],
   "source": [
    "# Import Libraries\n",
    "import pandas as pd\n",
    "from pandasai import SmartDatalake\n",
    "from pandasai.llm import OpenAI"
   ]
  },
  {
   "cell_type": "code",
   "execution_count": 5,
   "id": "3bb35265",
   "metadata": {},
   "outputs": [],
   "source": [
    "# Create two Dataframe\n",
    "employees_data = {\n",
    "    'EmployeeID': [1, 2, 3, 4, 5],\n",
    "    'Name': ['John', 'Emma', 'Liam', 'Olivia', 'William'],\n",
    "    'Department': ['HR', 'Sales', 'IT', 'Marketing', 'Finance']\n",
    "}\n",
    "\n",
    "salaries_data = {\n",
    "    'EmployeeID': [1, 2, 3, 4, 5],\n",
    "    'Salary': [5000, 6000, 4500, 7000, 5500]\n",
    "}\n",
    "\n",
    "employees_df = pd.DataFrame(employees_data)\n",
    "salaries_df = pd.DataFrame(salaries_data)"
   ]
  },
  {
   "cell_type": "code",
   "execution_count": null,
   "id": "b7b03f44",
   "metadata": {},
   "outputs": [],
   "source": [
    "# Load OpenAI API key\n",
    "api_key=open(\"ChatGPTapiKey.txt\",\"r\").read().strip(\"\\n\")\n",
    "# print(api_key)"
   ]
  },
  {
   "cell_type": "code",
   "execution_count": 6,
   "id": "9ca47e9a",
   "metadata": {},
   "outputs": [],
   "source": [
    "# Initialize the LLM Model\n",
    "llm = OpenAI(api_token=api_key)\n",
    "dl = SmartDatalake([employees_df, salaries_df], config={\"llm\": llm})"
   ]
  },
  {
   "cell_type": "code",
   "execution_count": 8,
   "id": "b99a8034",
   "metadata": {},
   "outputs": [
    {
     "name": "stdout",
     "output_type": "stream",
     "text": [
      "Enter question about dataset: Who gets paid the most? and tell more about both datasets.\n",
      "The employee who gets paid the most is Olivia from the Marketing department.\n"
     ]
    }
   ],
   "source": [
    "prompt=input(\"Enter question about dataset: \")\n",
    "response=dl.chat(prompt)\n",
    "print(response)"
   ]
  },
  {
   "cell_type": "markdown",
   "id": "7e225a75",
   "metadata": {},
   "source": [
    "                                            -:END:-"
   ]
  }
 ],
 "metadata": {
  "kernelspec": {
   "display_name": "Python 3 (ipykernel)",
   "language": "python",
   "name": "python3"
  },
  "language_info": {
   "codemirror_mode": {
    "name": "ipython",
    "version": 3
   },
   "file_extension": ".py",
   "mimetype": "text/x-python",
   "name": "python",
   "nbconvert_exporter": "python",
   "pygments_lexer": "ipython3",
   "version": "3.9.12"
  }
 },
 "nbformat": 4,
 "nbformat_minor": 5
}

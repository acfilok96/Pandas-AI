{
 "cells": [
  {
   "cell_type": "code",
   "execution_count": 2,
   "id": "e8cc90f0",
   "metadata": {},
   "outputs": [],
   "source": [
    "# !pip install --upgrade pandas pandasai"
   ]
  },
  {
   "cell_type": "code",
   "execution_count": 3,
   "id": "3ce3bbac",
   "metadata": {},
   "outputs": [],
   "source": [
    "# Import basis libraries\n",
    "import pandas as pd\n",
    "from pandasai import PandasAI\n",
    "from pandasai.llm.openai import OpenAI"
   ]
  },
  {
   "cell_type": "code",
   "execution_count": 4,
   "id": "ab29929f",
   "metadata": {},
   "outputs": [
    {
     "name": "stdout",
     "output_type": "stream",
     "text": [
      "['.ipynb_checkpoints', 'Airline Dataset.csv', 'All_Clickstream.csv', 'All_Devices.csv', 'All_Profiles.csv', 'anonymizer example.ipynb', 'APIKey.txt', 'file1.ipynb', 'file2.ipynb', 'Getting Started.ipynb', 'secrets.toml', 'temp_chart.png']\n"
     ]
    }
   ],
   "source": [
    "import os\n",
    "print(os.listdir())"
   ]
  },
  {
   "cell_type": "markdown",
   "id": "cc714f8a",
   "metadata": {},
   "source": [
    "# Part-1"
   ]
  },
  {
   "cell_type": "code",
   "execution_count": 5,
   "id": "b5b54ed4",
   "metadata": {},
   "outputs": [
    {
     "data": {
      "text/html": [
       "<div>\n",
       "<style scoped>\n",
       "    .dataframe tbody tr th:only-of-type {\n",
       "        vertical-align: middle;\n",
       "    }\n",
       "\n",
       "    .dataframe tbody tr th {\n",
       "        vertical-align: top;\n",
       "    }\n",
       "\n",
       "    .dataframe thead th {\n",
       "        text-align: right;\n",
       "    }\n",
       "</style>\n",
       "<table border=\"1\" class=\"dataframe\">\n",
       "  <thead>\n",
       "    <tr style=\"text-align: right;\">\n",
       "      <th></th>\n",
       "      <th>Passenger ID</th>\n",
       "      <th>First Name</th>\n",
       "      <th>Last Name</th>\n",
       "      <th>Gender</th>\n",
       "      <th>Age</th>\n",
       "      <th>Nationality</th>\n",
       "      <th>Airport Name</th>\n",
       "      <th>Airport Country Code</th>\n",
       "      <th>Country Name</th>\n",
       "      <th>Airport Continent</th>\n",
       "      <th>Continents</th>\n",
       "      <th>Departure Date</th>\n",
       "      <th>Arrival Airport</th>\n",
       "      <th>Pilot Name</th>\n",
       "      <th>Flight Status</th>\n",
       "    </tr>\n",
       "  </thead>\n",
       "  <tbody>\n",
       "    <tr>\n",
       "      <th>0</th>\n",
       "      <td>10856</td>\n",
       "      <td>Edithe</td>\n",
       "      <td>Leggis</td>\n",
       "      <td>Female</td>\n",
       "      <td>62</td>\n",
       "      <td>Japan</td>\n",
       "      <td>Coldfoot Airport</td>\n",
       "      <td>US</td>\n",
       "      <td>United States</td>\n",
       "      <td>NAM</td>\n",
       "      <td>North America</td>\n",
       "      <td>6/28/2022</td>\n",
       "      <td>CXF</td>\n",
       "      <td>Edithe Leggis</td>\n",
       "      <td>On Time</td>\n",
       "    </tr>\n",
       "    <tr>\n",
       "      <th>1</th>\n",
       "      <td>43872</td>\n",
       "      <td>Elwood</td>\n",
       "      <td>Catt</td>\n",
       "      <td>Male</td>\n",
       "      <td>62</td>\n",
       "      <td>Nicaragua</td>\n",
       "      <td>Kugluktuk Airport</td>\n",
       "      <td>CA</td>\n",
       "      <td>Canada</td>\n",
       "      <td>NAM</td>\n",
       "      <td>North America</td>\n",
       "      <td>12/26/2022</td>\n",
       "      <td>YCO</td>\n",
       "      <td>Elwood Catt</td>\n",
       "      <td>On Time</td>\n",
       "    </tr>\n",
       "    <tr>\n",
       "      <th>2</th>\n",
       "      <td>42633</td>\n",
       "      <td>Darby</td>\n",
       "      <td>Felgate</td>\n",
       "      <td>Male</td>\n",
       "      <td>67</td>\n",
       "      <td>Russia</td>\n",
       "      <td>Grenoble-Isère Airport</td>\n",
       "      <td>FR</td>\n",
       "      <td>France</td>\n",
       "      <td>EU</td>\n",
       "      <td>Europe</td>\n",
       "      <td>1/18/2022</td>\n",
       "      <td>GNB</td>\n",
       "      <td>Darby Felgate</td>\n",
       "      <td>On Time</td>\n",
       "    </tr>\n",
       "  </tbody>\n",
       "</table>\n",
       "</div>"
      ],
      "text/plain": [
       "   Passenger ID First Name Last Name  Gender  Age Nationality  \\\n",
       "0         10856     Edithe    Leggis  Female   62       Japan   \n",
       "1         43872     Elwood      Catt    Male   62   Nicaragua   \n",
       "2         42633      Darby   Felgate    Male   67      Russia   \n",
       "\n",
       "             Airport Name Airport Country Code   Country Name  \\\n",
       "0        Coldfoot Airport                   US  United States   \n",
       "1       Kugluktuk Airport                   CA         Canada   \n",
       "2  Grenoble-Isère Airport                   FR         France   \n",
       "\n",
       "  Airport Continent     Continents Departure Date Arrival Airport  \\\n",
       "0               NAM  North America      6/28/2022             CXF   \n",
       "1               NAM  North America     12/26/2022             YCO   \n",
       "2                EU         Europe      1/18/2022             GNB   \n",
       "\n",
       "      Pilot Name Flight Status  \n",
       "0  Edithe Leggis       On Time  \n",
       "1    Elwood Catt       On Time  \n",
       "2  Darby Felgate       On Time  "
      ]
     },
     "execution_count": 5,
     "metadata": {},
     "output_type": "execute_result"
    }
   ],
   "source": [
    "#Loading CSV file \n",
    "import pandas as pd\n",
    "from pandasai import PandasAI\n",
    "from pandasai.llm.openai import OpenAI\n",
    "file_path =\"Airline Dataset.csv\"\n",
    "df = pd.read_csv(file_path)\n",
    "df.head(3)"
   ]
  },
  {
   "cell_type": "code",
   "execution_count": 6,
   "id": "8ab64ed9",
   "metadata": {},
   "outputs": [],
   "source": [
    "# Enter API Key\n",
    "API_KEY = open(\"APIKey.txt\",\"r\").read().split(\"\\n\")[0] #@param {type:\"string\"}\n",
    "# print(API_KEY)"
   ]
  },
  {
   "cell_type": "code",
   "execution_count": 7,
   "id": "fb03146c",
   "metadata": {},
   "outputs": [
    {
     "name": "stderr",
     "output_type": "stream",
     "text": [
      "C:\\Users\\Dipankar Porey\\anaconda3\\envs\\tensorflow_env\\lib\\site-packages\\pandasai\\__init__.py:145: UserWarning: `PandasAI` (class) is deprecated since v1.0 and will be removed in a future release. Please use `SmartDataframe` instead.\n",
      "  warnings.warn(\n"
     ]
    }
   ],
   "source": [
    "llm = OpenAI(api_token=API_KEY)\n",
    "pandas_ai = PandasAI(llm, verbose=True)"
   ]
  },
  {
   "cell_type": "code",
   "execution_count": 8,
   "id": "e73a3545",
   "metadata": {},
   "outputs": [],
   "source": [
    "# Enter Prompt related to data or Select from Pre-defined for demo purposes.\n",
    "prompt = 'Generate bar Plot of Gender Column'"
   ]
  },
  {
   "cell_type": "code",
   "execution_count": 9,
   "id": "562383d2",
   "metadata": {
    "scrolled": false
   },
   "outputs": [
    {
     "name": "stderr",
     "output_type": "stream",
     "text": [
      "Could not load configuration\n",
      "Traceback (most recent call last):\n",
      "  File \"C:\\Users\\Dipankar Porey\\anaconda3\\envs\\tensorflow_env\\lib\\site-packages\\pandasai\\config.py\", line 19, in load_config\n",
      "    with open(find_closest(\"pandasai.json\"), \"r\") as f:\n",
      "FileNotFoundError: [Errno 2] No such file or directory: 'C:\\\\Users\\\\Dipankar Porey\\\\pandasai.json'\n"
     ]
    },
    {
     "name": "stdout",
     "output_type": "stream",
     "text": [
      "2023-09-07 11:52:07 [ERROR] Could not load configuration\n",
      "Traceback (most recent call last):\n",
      "  File \"C:\\Users\\Dipankar Porey\\anaconda3\\envs\\tensorflow_env\\lib\\site-packages\\pandasai\\config.py\", line 19, in load_config\n",
      "    with open(find_closest(\"pandasai.json\"), \"r\") as f:\n",
      "FileNotFoundError: [Errno 2] No such file or directory: 'C:\\\\Users\\\\Dipankar Porey\\\\pandasai.json'\n",
      "2023-09-07 11:52:07 [INFO] Question: Generate bar Plot of Gender Column\n",
      "2023-09-07 11:52:07 [INFO] Running PandasAI with openai LLM...\n",
      "2023-09-07 11:52:07 [INFO] Prompt ID: b0633570-7634-4d1e-a725-abaa8421da8c\n",
      "2023-09-07 11:52:07 [INFO] Using cached response\n",
      "2023-09-07 11:52:07 [INFO] \n",
      "                    Code generated:\n",
      "                    ```\n",
      "                    # TODO import all the dependencies required\n",
      "import pandas as pd\n",
      "import matplotlib.pyplot as plt\n",
      "\n",
      "# Analyze the data\n",
      "# 1. Prepare: Preprocessing and cleaning data if necessary\n",
      "# 2. Process: Manipulating data for analysis (grouping, filtering, aggregating, etc.)\n",
      "# 3. Analyze: Conducting the actual analysis (if the user asks to create a chart save it to an image in /temp_chart.png and do not show the chart.)\n",
      "# 4. Output: return a dictionary of:\n",
      "# - type (possible values \"text\", \"number\", \"dataframe\", \"plot\")\n",
      "# - value (can be a string, a dataframe or the path of the plot, NOT a dictionary)\n",
      "# Example output: { \"type\": \"text\", \"value\": \"The average loan amount is $15,000.\" }\n",
      "def analyze_data(dfs: list[pd.DataFrame]) -> dict:\n",
      "    # Code goes here (do not add comments)\n",
      "    df = dfs[0]\n",
      "    \n",
      "    # Prepare\n",
      "    df['Gender'] = df['Gender'].replace({'Male': 'M', 'Female': 'F'})\n",
      "    \n",
      "    # Analyze\n",
      "    gender_counts = df['Gender'].value_counts()\n",
      "    \n",
      "    # Process\n",
      "    gender_counts.plot(kind='bar')\n",
      "    plt.xlabel('Gender')\n",
      "    plt.ylabel('Count')\n",
      "    plt.title('Gender Distribution')\n",
      "    plt.savefig('/temp_chart.png')\n",
      "    plt.close()\n",
      "    \n",
      "    # Output\n",
      "    return {\"type\": \"plot\", \"value\": \"/temp_chart.png\"}\n",
      "\n",
      "# Declare a result variable\n",
      "result = analyze_data(dfs)\n",
      "                    ```\n",
      "                \n",
      "2023-09-07 11:52:07 [INFO] \n",
      "Code running:\n",
      "```\n",
      "def analyze_data(dfs: list[pd.DataFrame]) ->dict:\n",
      "    df = dfs[0]\n",
      "    df['Gender'] = df['Gender'].replace({'Male': 'M', 'Female': 'F'})\n",
      "    gender_counts = df['Gender'].value_counts()\n",
      "    gender_counts.plot(kind='bar')\n",
      "    plt.xlabel('Gender')\n",
      "    plt.ylabel('Count')\n",
      "    plt.title('Gender Distribution')\n",
      "    plt.savefig('/temp_chart.png')\n",
      "    plt.close()\n",
      "    return {'type': 'plot', 'value': '/temp_chart.png'}\n",
      "\n",
      "\n",
      "result = analyze_data(dfs)\n",
      "        ```\n",
      "2023-09-07 11:52:08 [WARNING] Error of executing code\n",
      "2023-09-07 11:52:08 [WARNING] Failed to execute code with a correction framework [retry number: 1]\n",
      "2023-09-07 11:52:08 [INFO] Failed with error: [Errno 13] Permission denied: '/temp_chart.png'. Retrying\n",
      "2023-09-07 11:52:20 [INFO] \n",
      "Code running:\n",
      "```\n",
      "def analyze_data(dfs: list[pd.DataFrame]) ->dict:\n",
      "    df = dfs[0]\n",
      "    df['Gender'] = df['Gender'].replace({'Male': 'M', 'Female': 'F'})\n",
      "    gender_counts = df['Gender'].value_counts()\n",
      "    gender_counts.plot(kind='bar')\n",
      "    plt.xlabel('Gender')\n",
      "    plt.ylabel('Count')\n",
      "    plt.title('Gender Distribution')\n",
      "    plt.savefig('temp_chart.png')\n",
      "    plt.close()\n",
      "    return {'type': 'plot', 'value': 'temp_chart.png'}\n",
      "\n",
      "\n",
      "result = analyze_data(dfs)\n",
      "        ```\n",
      "2023-09-07 11:52:20 [INFO] Answer: {'type': 'plot', 'value': 'temp_chart.png'}\n",
      "2023-09-07 11:52:20 [INFO] Executed in: 12.896970272064209s\n"
     ]
    },
    {
     "data": {
      "image/png": "[encoded data removed]",
      "text/plain": [
       "<Figure size 432x288 with 1 Axes>"
      ]
     },
     "metadata": {
      "needs_background": "light"
     },
     "output_type": "display_data"
    }
   ],
   "source": [
    "response = pandas_ai.run(df, prompt = prompt)"
   ]
  },
  {
   "cell_type": "code",
   "execution_count": 10,
   "id": "057c858e",
   "metadata": {},
   "outputs": [],
   "source": [
    "# Let us run the code ourselves and find out the results matches or not?\n",
    "prompt = \"Generate bar Plot of Gender Column\""
   ]
  },
  {
   "cell_type": "code",
   "execution_count": 11,
   "id": "1e58f0e8",
   "metadata": {},
   "outputs": [
    {
     "data": {
      "image/png": "[encoded data removed]",
      "text/plain": [
       "<Figure size 432x288 with 1 Axes>"
      ]
     },
     "metadata": {
      "needs_background": "light"
     },
     "output_type": "display_data"
    }
   ],
   "source": [
    "import pandas as pd\n",
    "import matplotlib.pyplot as plt\n",
    "file_path = \"Airline Dataset.csv\"\n",
    "df = pd.read_csv(file_path)\n",
    "gender_counts = df[\"Gender\"].value_counts()\n",
    "gender_counts.plot(kind='bar')\n",
    "plt.show()"
   ]
  },
  {
   "cell_type": "markdown",
   "id": "4da7a5e8",
   "metadata": {},
   "source": [
    "                                        -:END:-"
   ]
  }
 ],
 "metadata": {
  "kernelspec": {
   "display_name": "Python 3 (ipykernel)",
   "language": "python",
   "name": "python3"
  },
  "language_info": {
   "codemirror_mode": {
    "name": "ipython",
    "version": 3
   },
   "file_extension": ".py",
   "mimetype": "text/x-python",
   "name": "python",
   "nbconvert_exporter": "python",
   "pygments_lexer": "ipython3",
   "version": "3.9.12"
  }
 },
 "nbformat": 4,
 "nbformat_minor": 5
}
